{
 "cells": [
  {
   "cell_type": "code",
   "execution_count": null,
   "metadata": {},
   "outputs": [],
   "source": [
    "import csv\n",
    "import urllib3\n",
    "from bs4 import BeautifulSoup\n",
    "import pandas as pd\n",
    "from sklearn.preprocessing import MinMaxScaler, Normalizer, StandardScaler\n",
    "from sklearn.model_selection import train_test_split\n",
    "from sklearn.multioutput import MultiOutputClassifier\n",
    "from sklearn.ensemble import RandomForestClassifier\n",
    "from sklearn.neural_network import MLPClassifier\n",
    "from sklearn.neighbors import KNeighborsClassifier\n",
    "from sklearn.model_selection import GridSearchCV\n",
    "from sklearn.metrics import zero_one_loss, accuracy_score, classification_report"
   ]
  },
  {
   "cell_type": "code",
   "execution_count": 169,
   "metadata": {},
   "outputs": [],
   "source": [
    "# download data & clean\n",
    "url = 'https://archive.ics.uci.edu/ml/machine-learning-databases/heart-disease/processed.cleveland.data'\n",
    "http = urllib3.PoolManager()\n",
    "response = http.request('GET', url)\n",
    "soup = BeautifulSoup(response.data.decode('utf-8'))\n",
    "# split and remove last empty list entry\n",
    "data = str(soup).split(\"\\n\")[:-1]\n",
    "# split by line\n",
    "data = [string.split(\",\") for string in data]\n",
    "df = pd.DataFrame(data, columns=[\"age\",\"sex\",\"cp\",\"trestbps\",\"chol\",\"fbs\",\"restecg\",\"thalach\",\"exang\",\"oldpeak\",\"slope\",\"ca\",\"thal\",\"num\"])\n",
    "\n",
    "# Clean Data, by inspection we notice '?' for missing values\n",
    "error = df.loc[(df['thal'] == '?') | (df['ca'] == '?')]\n",
    "df_clean = pd.concat([df,error]).drop_duplicates(keep=False)\n",
    "df_clean = df_clean.astype(float)\n",
    "\n",
    "# split training data and target\n",
    "df_X = df_clean.drop('num', axis=1)\n",
    "df_y = df_clean['num']\n",
    "# all categories >= 1.0 indicate heart disease\n",
    "df_y = df_y.replace([2.0,3.0,4.0], 1.0)\n",
    "\n",
    "# Transform non-binary features by scaling each feature to a given range, other options MinMaxScaler, Normalizer\n",
    "scaler = StandardScaler()\n",
    "scaler.fit(df_X[['age', 'trestbps', 'chol', 'thalach', 'oldpeak']])\n",
    "df_n = scaler.transform(df_X[['age', 'trestbps', 'chol', 'thalach', 'oldpeak']])"
   ]
  },
  {
   "cell_type": "code",
   "execution_count": 190,
   "metadata": {},
   "outputs": [
    {
     "name": "stdout",
     "output_type": "stream",
     "text": [
      "Error Rate KNN:  0.33333333333333337\n",
      "Accuracy KNN:  0.6666666666666666\n",
      "Error Rate RF:  0.21666666666666667\n",
      "Accuracy RF:  0.7833333333333333\n",
      "Error Rate MLP:  0.23333333333333328\n",
      "Accuracy MLP:  0.7666666666666667\n"
     ]
    }
   ],
   "source": [
    "# Basic examples for Classification\n",
    "\n",
    "# KNN\n",
    "classifier = KNeighborsClassifier(n_neighbors = 15)\n",
    "classifier.fit(X_train, y_train)\n",
    "y_predict = classifier.predict(X_test)\n",
    "error_rate = zero_one_loss(y_test, y_predict, normalize=True)\n",
    "accuracy = 1 - error_rate\n",
    "print(\"Error Rate KNN: \", error_rate)\n",
    "print(\"Accuracy KNN: \", accuracy)\n",
    "\n",
    "# Random Forest\n",
    "X_train, X_test, y_train, y_test = train_test_split(df_X, df_y, test_size = 0.2, random_state = 0)\n",
    "classifier = RandomForestClassifier()\n",
    "classifier.fit(X_train, y_train)\n",
    "y_predict = classifier.predict(X_test)\n",
    "error_rate = zero_one_loss(y_test, y_predict, normalize=True)\n",
    "accuracy = 1 - error_rate\n",
    "print(\"Error Rate RF: \", error_rate)\n",
    "print(\"Accuracy RF: \", accuracy)\n",
    "\n",
    "# Multi Layer Perceptron\n",
    "classifier = MLPClassifier(solver=\"lbfgs\",max_iter=100000)\n",
    "classifier.fit(X_train, y_train)\n",
    "y_predict = classifier.predict(X_test)\n",
    "error_rate = zero_one_loss(y_test, y_predict, normalize=True)\n",
    "accuracy = 1 - error_rate\n",
    "print(\"Error Rate MLP: \", error_rate)\n",
    "print(\"Accuracy MLP: \", accuracy)"
   ]
  },
  {
   "cell_type": "code",
   "execution_count": 187,
   "metadata": {},
   "outputs": [
    {
     "name": "stdout",
     "output_type": "stream",
     "text": [
      "Best parameters found:\n",
      " {'activation': 'relu', 'alpha': 0.005, 'hidden_layer_sizes': (150,), 'learning_rate': 'constant', 'solver': 'lbfgs'}\n",
      "Results on the test set:\n",
      "              precision    recall  f1-score   support\n",
      "\n",
      "         0.0       0.82      0.90      0.86        30\n",
      "         1.0       0.89      0.80      0.84        30\n",
      "\n",
      "    accuracy                           0.85        60\n",
      "   macro avg       0.85      0.85      0.85        60\n",
      "weighted avg       0.85      0.85      0.85        60\n",
      "\n"
     ]
    }
   ],
   "source": [
    "# Hyperparameter Optimization on MLP\n",
    "# ATTENTION! Running the GridSearch might take some time\n",
    "# example results: Best parameters found:\n",
    "# {'activation': 'relu', 'alpha': 0.005, 'hidden_layer_sizes': (150,), 'learning_rate': 'constant', 'solver': 'lbfgs'}\n",
    "\n",
    "classifier = MLPClassifier(max_iter=100000)\n",
    "\n",
    "# some parameters to try\n",
    "parameter_space = {\n",
    "    'hidden_layer_sizes': [(100,), (150,), (200,)],\n",
    "    'activation': ['tanh', 'relu'],\n",
    "    'solver': ['lbfgs'],\n",
    "    'alpha': [0.001, 0.005],\n",
    "    'learning_rate': ['constant', 'adaptive'],\n",
    "}\n",
    "\n",
    "# Grid Search : Exhaustive search over specified parameter values for an estimator\n",
    "clf = GridSearchCV(classifier, parameter_space, n_jobs=-1, cv=5)\n",
    "clf.fit(df_X, df_y) \n",
    "print('Best parameters found:\\n', clf.best_params_)\n",
    "y_predict = clf.predict(X_test)\n",
    "print('Results on the test set:')\n",
    "print(classification_report(y_true, y_pred))\n",
    "error_rate = zero_one_loss(y_test, y_predict, normalize=True)\n",
    "accuracy = 1 - error_rate\n",
    "print(\"Error Rate MLP hyp: \", error_rate)\n",
    "print(\"Accuracy MLP hyp: \", accuracy)"
   ]
  }
 ],
 "metadata": {
  "kernelspec": {
   "display_name": "Python 3",
   "language": "python",
   "name": "python3"
  },
  "language_info": {
   "codemirror_mode": {
    "name": "ipython",
    "version": 3
   },
   "file_extension": ".py",
   "mimetype": "text/x-python",
   "name": "python",
   "nbconvert_exporter": "python",
   "pygments_lexer": "ipython3",
   "version": "3.8.2"
  }
 },
 "nbformat": 4,
 "nbformat_minor": 4
}
